{
 "cells": [
  {
   "cell_type": "markdown",
   "id": "91cfe232",
   "metadata": {},
   "source": [
    "# install_dependencies.ipynb"
   ]
  },
  {
   "cell_type": "markdown",
   "id": "811c5ad4",
   "metadata": {},
   "source": [
    "## 1. 기본 패키지 임포트 테스트"
   ]
  },
  {
   "cell_type": "code",
   "execution_count": null,
   "id": "791a9ce9",
   "metadata": {},
   "outputs": [],
   "source": [
    "!pip install konlpy\n",
    "!pip install jupyter\n",
    "!pip install pandas\n",
    "!pip install beautifulsoup4\n",
    "!pip install selenium\n",
    "!pip install matplotlib\n",
    "!pip install wordcloud\n",
    "!pip install konlpy\n",
    "!pip install transformers\n",
    "!pip install torch\n",
    "!pip install scikit-learn"
   ]
  },
  {
   "cell_type": "code",
   "execution_count": null,
   "id": "4090371f",
   "metadata": {},
   "outputs": [],
   "source": [
    "import pandas as pd\n",
    "import matplotlib.pyplot as plt\n",
    "from wordcloud import WordCloud\n",
    "import konlpy\n",
    "from bs4 import BeautifulSoup\n",
    "from selenium import webdriver\n",
    "import torch\n",
    "from transformers import pipeline\n",
    "\n",
    "print(\"✅ 모든 패키지 임포트 성공\")"
   ]
  }
 ],
 "metadata": {
  "kernelspec": {
   "display_name": "Python 3",
   "language": "python",
   "name": "python3"
  },
  "language_info": {
   "codemirror_mode": {
    "name": "ipython",
    "version": 3
   },
   "file_extension": ".py",
   "mimetype": "text/x-python",
   "name": "python",
   "nbconvert_exporter": "python",
   "pygments_lexer": "ipython3",
   "version": "3.12.6"
  }
 },
 "nbformat": 4,
 "nbformat_minor": 5
}
