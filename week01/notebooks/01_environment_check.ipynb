{
 "cells": [
  {
   "cell_type": "markdown",
   "id": "c61e8329",
   "metadata": {},
   "source": [
    "# 환경 확인용 노트북"
   ]
  },
  {
   "cell_type": "code",
   "execution_count": null,
   "id": "247b97ea",
   "metadata": {
    "vscode": {
     "languageId": "plaintext"
    }
   },
   "outputs": [],
   "source": [
    "import pandas as pd\n",
    "import matplotlib.pyplot as plt\n",
    "from bs4 import BeautifulSoup\n",
    "from selenium import webdriver\n",
    "from wordcloud import WordCloud\n",
    "import konlpy\n",
    "import torch\n",
    "from transformers import pipeline\n",
    "\n",
    "print(\"✨ 환경 점검 완료 - 모든 라이브러리 정상 작동\")"
   ]
  }
 ],
 "metadata": {
  "language_info": {
   "name": "python"
  }
 },
 "nbformat": 4,
 "nbformat_minor": 5
}
